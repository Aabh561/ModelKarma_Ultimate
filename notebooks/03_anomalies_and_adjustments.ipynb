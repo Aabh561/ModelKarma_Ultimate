{
 "cells": [
  {
   "cell_type": "code",
   "execution_count": null,
   "id": "59853df8",
   "metadata": {
    "vscode": {
     "languageId": "plaintext"
    }
   },
   "outputs": [],
   "source": [
    "\n",
    "import pandas as pd\n",
    "\n",
    "df = pd.read_csv(\"data/performance_metrics/karma_scores.csv\")\n",
    "df['timestamp'] = pd.to_datetime(df['timestamp'])\n",
    "\n",
    "df['score_diff'] = df.groupby('model_name')['karma_score'].diff()\n",
    "print(df[df['score_diff'] < -10])  # Major drops\n"
   ]
  }
 ],
 "metadata": {
  "language_info": {
   "name": "python"
  }
 },
 "nbformat": 4,
 "nbformat_minor": 5
}
