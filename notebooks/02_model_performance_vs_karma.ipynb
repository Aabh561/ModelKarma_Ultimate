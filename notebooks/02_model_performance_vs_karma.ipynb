{
 "cells": [
  {
   "cell_type": "code",
   "execution_count": null,
   "id": "b8d17830",
   "metadata": {
    "vscode": {
     "languageId": "plaintext"
    }
   },
   "outputs": [],
   "source": [
    "\n",
    "import pandas as pd\n",
    "import seaborn as sns\n",
    "\n",
    "df = pd.read_csv(\"data/performance_metrics/model_metrics.csv\")\n",
    "sns.pairplot(df, vars=[\"accuracy\", \"latency\", \"drift\", \"karma_score\"], kind=\"reg\")\n"
   ]
  }
 ],
 "metadata": {
  "language_info": {
   "name": "python"
  }
 },
 "nbformat": 4,
 "nbformat_minor": 5
}
