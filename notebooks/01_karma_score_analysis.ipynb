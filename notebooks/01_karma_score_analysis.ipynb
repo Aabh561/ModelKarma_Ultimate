{
 "cells": [
  {
   "cell_type": "code",
   "execution_count": null,
   "id": "64305b94",
   "metadata": {
    "vscode": {
     "languageId": "plaintext"
    }
   },
   "outputs": [],
   "source": [
    "\n",
    "import pandas as pd\n",
    "import matplotlib.pyplot as plt\n",
    "\n",
    "df = pd.read_csv(\"data/performance_metrics/karma_scores.csv\")\n",
    "df['timestamp'] = pd.to_datetime(df['timestamp'])\n",
    "\n",
    "df.groupby('model_name')['karma_score'].plot(legend=True)\n",
    "plt.title(\"Karma Score Over Time\")\n",
    "plt.xlabel(\"Time\")\n",
    "plt.ylabel(\"Karma Score\")\n",
    "plt.show()\n"
   ]
  }
 ],
 "metadata": {
  "language_info": {
   "name": "python"
  }
 },
 "nbformat": 4,
 "nbformat_minor": 5
}
